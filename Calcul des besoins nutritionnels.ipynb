{
 "cells": [
  {
   "cell_type": "markdown",
   "id": "3ae80abe",
   "metadata": {},
   "source": [
    "# Calcul des besoins nutritionnels"
   ]
  },
  {
   "cell_type": "markdown",
   "id": "d5a8f216",
   "metadata": {},
   "source": [
    "### L'Importance de Connaître Ses Besoins Caloriques en Musculation\n",
    "La musculation est bien plus qu'une simple activité physique. C'est un mode de vie axé sur le développement musculaire, la force et la santé globale. Pour atteindre des objectifs en musculation, que ce soit pour gagner de la masse musculaire, perdre de la graisse corporelle ou améliorer les performances, la compréhension des besoins caloriques est essentielle. Voici pourquoi :\n",
    "\n",
    "#### 1. Contrôle de la Composition Corporelle\n",
    "Construction Musculaire : Pour accroître la masse musculaire, le corps nécessite un apport calorique adéquat. Un excédent calorique contrôlé permet de fournir aux muscles les nutriments nécessaires à leur croissance.\n",
    "\n",
    "Perte de Graisse : Pour réduire la graisse corporelle tout en préservant la masse musculaire, un déficit calorique modéré est requis. La connaissance des besoins caloriques permet d'ajuster l'alimentation de manière appropriée, évitant ainsi une perte musculaire excessive.\n",
    "\n",
    "#### 2. Optimisation des Performances\n",
    "Les séances d'entraînement en musculation peuvent être intensives et exigeantes. La connaissance des besoins caloriques permet de maintenir un niveau d'énergie optimal pour des performances maximales à la salle de sport. Un apport calorique insuffisant peut entraîner une fatigue prématurée et des performances réduites.\n",
    "\n",
    "#### 3. Personnalisation de l'Alimentation\n",
    "Chaque individu a des besoins caloriques uniques en fonction de facteurs tels que le poids, la taille, l'âge, le niveau d'activité et les objectifs. La compréhension des besoins caloriques aide à personnaliser le plan alimentaire pour répondre à des besoins spécifiques. Cela favorise une approche plus efficace et durable pour atteindre des objectifs.\n",
    "\n",
    "#### 4. Évitement des Plateaux\n",
    "Avec le temps, le métabolisme peut s'ajuster à l'apport calorique actuel. La connaissance des besoins caloriques permet d'effectuer des ajustements périodiques pour éviter les plateaux dans la progression. Que ce soit en modifiant légèrement les calories pour la croissance musculaire ou en créant un léger déficit pour la perte de graisse, cette compréhension offre la maîtrise des résultats.\n",
    "\n",
    "#### 5. Préservation de la Santé Générale\n",
    "Une alimentation appropriée est essentielle pour maintenir une santé optimale, particulièrement lors de la participation à un programme d'entraînement intensif. La connaissance des besoins caloriques aide à obtenir les nutriments essentiels pour soutenir les muscles, le système immunitaire et le bien-être général.\n",
    "\n",
    "En conclusion, la connaissance des besoins caloriques joue un rôle crucial dans le parcours de musculation. Cela confère la capacité de personnaliser l'alimentation selon les objectifs, de maximiser les performances et d'assurer une progression continue. Que ce soit pour augmenter la masse musculaire, réduire la graisse ou maintenir la condition physique, une approche éclairée des besoins caloriques est la clé du succès dans l'univers de la musculation."
   ]
  },
  {
   "cell_type": "markdown",
   "id": "7fd4f1de",
   "metadata": {},
   "source": [
    "### Présentation des Formules de Calcul des Besoins Caloriques en Musculation\n",
    "Les formules de calcul des besoins caloriques sont des outils essentiels pour déterminer la quantité d'énergie que notre corps nécessite au repos. Elles jouent un rôle crucial dans la planification d'une alimentation équilibrée et adaptée à nos objectifs en musculation. Voici un aperçu des principales formules utilisées dans ce domaine :\n",
    "\n",
    "#### 1. Formule Harris/Benedict (1919)\n",
    "Cette formule classique a jeté les bases de l'estimation des besoins caloriques en fonction de différents paramètres tels que le poids, la taille, l'âge et le sexe. Elle offre des versions distinctes pour les hommes et les femmes, reflétant les différences métaboliques entre les deux sexes. Les formules Harris/Benedict ont servi de base à d'autres approches de calcul des besoins caloriques.\n",
    "\n",
    "#### 2. Formule Roza/Shizgal (1994)\n",
    "La formule de Roza/Shizgal a été développée pour améliorer la précision de l'estimation des besoins caloriques. Elle prend en compte des facteurs tels que le poids, la taille, l'âge et le sexe pour fournir une estimation plus raffinée de la dépense énergétique au repos. Cette formule a été conçue pour mieux s'adapter aux différences métaboliques individuelles.\n",
    "\n",
    "#### 3. Formule Black et al. (1996)\n",
    "La formule de Black et al. est une variante de la formule Roza/Shizgal, avec des ajustements mineurs pour mieux s'aligner avec les besoins énergétiques. Elle est également basée sur des paramètres tels que le poids, la taille, l'âge et le sexe. Cette formule vise à fournir une évaluation plus précise des besoins caloriques pour soutenir les activités quotidiennes.\n",
    "\n",
    "#### 4. Formule Katch/McArdle (1996)\n",
    "La formule de Katch/McArdle se distingue des autres en prenant en compte la composition corporelle, en particulier le pourcentage de graisse corporelle. Elle offre une estimation plus personnalisée en utilisant le poids et le pourcentage de graisse pour calculer la masse maigre. Cette formule est souvent préférée par ceux qui ont des informations précises sur leur composition corporelle."
   ]
  },
  {
   "cell_type": "code",
   "execution_count": 1,
   "id": "653dfd73",
   "metadata": {},
   "outputs": [],
   "source": [
    "def harris_benedict_1919(poids, taille, age, sexe):\n",
    "    if sexe == \"homme\":\n",
    "        bmr = 66.5 + (13.75 * poids) + (5.003 * taille) - (6.75 * age)\n",
    "    elif sexe == \"femme\":\n",
    "        bmr = 655.1 + (9.563 * poids) + (1.850 * taille) - (4.676 * age)\n",
    "    else:\n",
    "        raise ValueError(\"Le sexe doit être 'homme' ou 'femme'\")\n",
    "    \n",
    "    return bmr\n",
    "\n",
    "def roza_shizgal_1994(poids, taille, age, sexe):\n",
    "    if sexe == \"homme\":\n",
    "        bmr = 88.362 + (13.397 * poids) + (4.799 * taille) - (5.677 * age)\n",
    "    elif sexe == \"femme\":\n",
    "        bmr = 447.593 + (9.247 * poids) + (3.098 * taille) - (4.330 * age)\n",
    "    else:\n",
    "        raise ValueError(\"Le sexe doit être 'homme' ou 'femme'\")\n",
    "    \n",
    "    return bmr\n",
    "\n",
    "def black_et_al_1996(poids, taille, age, sexe):\n",
    "    if sexe == \"homme\":\n",
    "        bmr = 88.362 + (13.397 * poids) + (4.799 * taille) - (5.677 * age)\n",
    "    elif sexe == \"femme\":\n",
    "        bmr = 447.593 + (9.247 * poids) + (3.098 * taille) - (4.330 * age)\n",
    "    else:\n",
    "        raise ValueError(\"Le sexe doit être 'homme' ou 'femme'\")\n",
    "    \n",
    "    return bmr\n",
    "\n",
    "def katch_mcardle_1996(poids, pourcentage_graisse_corporelle):\n",
    "    masse_maigre = poids * (1 - (pourcentage_graisse_corporelle / 100))\n",
    "    bmr = 370 + (21.6 * masse_maigre)\n",
    "    \n",
    "    return bmr"
   ]
  },
  {
   "cell_type": "code",
   "execution_count": null,
   "id": "ba9556ed",
   "metadata": {},
   "outputs": [],
   "source": []
  }
 ],
 "metadata": {
  "kernelspec": {
   "display_name": "Python 3 (ipykernel)",
   "language": "python",
   "name": "python3"
  },
  "language_info": {
   "codemirror_mode": {
    "name": "ipython",
    "version": 3
   },
   "file_extension": ".py",
   "mimetype": "text/x-python",
   "name": "python",
   "nbconvert_exporter": "python",
   "pygments_lexer": "ipython3",
   "version": "3.10.9"
  }
 },
 "nbformat": 4,
 "nbformat_minor": 5
}
